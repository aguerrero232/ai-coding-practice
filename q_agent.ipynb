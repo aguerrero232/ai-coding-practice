{
 "cells": [
  {
   "cell_type": "markdown",
   "metadata": {},
   "source": [
    "## Author: Ariel Guerrero\n",
    "### ***Q-Learning Agent***\n",
    "\n",
    "\n",
    "Implementation of ***Q-Learning Agent*** using OpenAI Gym environment.\n"
   ]
  },
  {
   "cell_type": "markdown",
   "metadata": {},
   "source": [
    "### *Q Learning Algorithm*\n",
    "\n",
    "***Q(s<sub>t</sub>, a<sub>t</sub>) = R<sub>t+1</sub> + gamma * max(Q(s<sub>t+1</sub>))***\n",
    "\n",
    "* s = state\n",
    "* a = action\n",
    "* R<sub>t+1</sub> = reward\n",
    "* gamma = discount factor\n",
    "* max(Q(s<sub>t+1</sub>) = max Q value ***for all possible actions*** in state s<sub>t+1</sub>"
   ]
  },
  {
   "cell_type": "markdown",
   "metadata": {},
   "source": [
    "### Imports"
   ]
  },
  {
   "cell_type": "code",
   "execution_count": 1,
   "metadata": {},
   "outputs": [],
   "source": [
    "\n",
    "import gym\n",
    "import random\n",
    "import numpy as np\n",
    "import time\n",
    "from gym.envs.registration import register\n",
    "from IPython.display import clear_output\n"
   ]
  },
  {
   "cell_type": "markdown",
   "metadata": {},
   "source": [
    "### Registering A Frozen Lake Environment with no slippery tiles"
   ]
  },
  {
   "cell_type": "code",
   "execution_count": 2,
   "metadata": {},
   "outputs": [],
   "source": [
    "\n",
    "# frozen lake registration for non slippery lake\n",
    "try:\n",
    "    register(\n",
    "        id='FrozenLakeNoSlip-v0',\n",
    "        entry_point='gym.envs.toy_text:FrozenLakeEnv',\n",
    "        kwargs={'map_name': '4x4', 'is_slippery': False},\n",
    "        max_episode_steps=100,\n",
    "        reward_threshold=0.78,  # optimum = .8196\n",
    "    )\n",
    "except:\n",
    "    pass\n",
    "\n"
   ]
  },
  {
   "cell_type": "markdown",
   "metadata": {},
   "source": [
    "### Functions to create a new environment and to display environment information"
   ]
  },
  {
   "cell_type": "code",
   "execution_count": 3,
   "metadata": {},
   "outputs": [],
   "source": [
    "\n",
    "def new_env(env_name):\n",
    "    \"\"\"\n",
    "        description: Create a new environment.\n",
    "    \"\"\"\n",
    "    env = gym.make(env_name)\n",
    "    return env\n",
    "\n",
    "\n",
    "def env_attributes(env):\n",
    "    \"\"\"\n",
    "        description:    Prints Attributes of the environment\n",
    "        @param env:      Gym environment\n",
    "    \"\"\"\n",
    "    print(\"observation space: \", env.observation_space)\n",
    "    # number of actions\n",
    "    if type(\n",
    "            env.action_space) == gym.spaces.discrete.Discrete:\n",
    "        print(\"action space: \", env.action_space)\n",
    "    else:\n",
    "        print(\"action range: \",\n",
    "              env.action_space.low, env.action_space.high)\n",
    "\n"
   ]
  },
  {
   "cell_type": "markdown",
   "metadata": {},
   "source": [
    "### Definining the Agent and Q-Agent classes"
   ]
  },
  {
   "cell_type": "code",
   "execution_count": 4,
   "metadata": {},
   "outputs": [],
   "source": [
    "# Basic Agent\n",
    "class Agent():\n",
    "    \"\"\"\n",
    "        description:    Agent with discrete or continuous action space\n",
    "    \"\"\"\n",
    "\n",
    "    def __init__(self, env):\n",
    "        # I know its discrete but putting this here for future reference\n",
    "        # is the agent discrete or continuous?\n",
    "        self.is_discrete = type(\n",
    "            env.action_space) == gym.spaces.discrete.Discrete\n",
    "\n",
    "        # if discrete, get the action size\n",
    "        if self.is_discrete:\n",
    "            self.action_size = env.action_space.n\n",
    "        else:\n",
    "            self.action_low = env.action_space.low\n",
    "            self.action_high = env.action_space.high\n",
    "            self.action_shape = env.action_space.shape\n",
    "\n",
    "        env_attributes(env)\n",
    "\n",
    "    def get_action(self, state):\n",
    "        # if discrete, get the action\n",
    "        if self.is_discrete:\n",
    "            action = random.randrange(self.action_size)\n",
    "        else:\n",
    "            action = np.random.uniform(\n",
    "                self.action_low,\n",
    "                self.action_high,\n",
    "                self.action_shape\n",
    "            )\n",
    "\n",
    "        return action\n",
    "\n",
    "\n",
    "# Q Learning Agent\n",
    "class QAgent(Agent):\n",
    "    def __init__(self, env, discount_rate=0.97, learning_rate=0.01, epsilon=.75):\n",
    "        \"\"\"\n",
    "            description:    Q Learning Agent\n",
    "            @param env:      Gym environment\n",
    "            @param discount_rate:   represents how much future values lose weight based on how far they are\n",
    "            @param learning_rate:   represents the rate at which an algorithm adjusts its estimates based on the new information \n",
    "            @param epsilon:    represents the probability of prioritizing an exploritory action over a policy action (explore values vs acting greedy)\n",
    "        \"\"\"\n",
    "        super().__init__(env)\n",
    "        # action size is already defined in the parent Agent class\n",
    "        # state size\n",
    "        self.state_size = env.observation_space.n\n",
    "        print(\"state size: \", self.state_size)\n",
    "        # discount rate\n",
    "        self.discount_rate = discount_rate\n",
    "        # learning rate\n",
    "        self.learning_rate = learning_rate\n",
    "        # epsilon\n",
    "        self.epsilon = epsilon\n",
    "        # building the model\n",
    "        self.build_model()\n",
    "\n",
    "    def build_model(self):\n",
    "        self.q_table = 1e-4 * \\\n",
    "            np.random.random([self.state_size, self.action_size])\n",
    "\n",
    "    # redefining the get_action method to use the Q table selecting values based on the corresponding state\n",
    "    def get_action(self, state):\n",
    "        q_state = self.q_table[state]\n",
    "        action_greedy = np.argmax(q_state)\n",
    "        action_explore = super().get_action(state)\n",
    "        # return a random action with probability epsilon else return the greedy action\n",
    "        return action_explore if random.random() < self.epsilon else action_greedy\n",
    "\n",
    "    def train(self, experience):\n",
    "        state, action, next_state, reward, done = experience\n",
    "\n",
    "        # get the next q state\n",
    "        q_next = self.q_table[next_state]\n",
    "        q_next = np.zeros([self.action_size]) if done else q_next\n",
    "        q_target = reward + self.discount_rate * np.max(q_next)\n",
    "        print(f\"target: {q_target}\")\n",
    "        print(f\"action: {action}\")\n",
    "        print(f\"q_next: {q_next}\")\n",
    "        print(f\"q_next[action]: {q_next[action]}\")\n",
    "        print(f\"state: {state}\")\n",
    "        print(f\"new_state: {next_state}\")    \n",
    "\n",
    "\n",
    "        print(f\"q_table: {self.q_table}\")\n",
    "        # calc distance from current q state to the target q state\n",
    "        print(f\"q_table[state][actions]: {self.q_table[state][action]}\")\n",
    "        q_update = q_target - self.q_table[state, action]\n",
    "        print(f\"q_update: {q_update}\")\n",
    "        self.q_table[state, action] += self.learning_rate * q_update\n",
    "        print(f\"q_table: {self.q_table}\")\n",
    "        # we need to reduce epsilon over time as we get more experience and the table is more optimal\n",
    "        if done:\n",
    "            # exponential decay to epsilon\n",
    "            self.epsilon = self.epsilon * 0.99\n",
    "        \n",
    "        # wait 2 seconds\n",
    "        time.sleep(4)\n"
   ]
  },
  {
   "cell_type": "markdown",
   "metadata": {},
   "source": [
    "### Initializing the Agent and Environment"
   ]
  },
  {
   "cell_type": "code",
   "execution_count": 5,
   "metadata": {},
   "outputs": [
    {
     "name": "stdout",
     "output_type": "stream",
     "text": [
      "observation space:  Discrete(16)\n",
      "action space:  Discrete(4)\n",
      "state size:  16\n"
     ]
    }
   ],
   "source": [
    "#  lake is slippery (hard)\n",
    "# env_name = 'FrozenLake-v1'\n",
    "#  lake is not slippery (easy)\n",
    "env_name = 'FrozenLakeNoSlip-v0'\n",
    "# create new environment\n",
    "env = new_env(env_name)\n",
    "#  new QAgent\n",
    "agent = QAgent(env)"
   ]
  },
  {
   "cell_type": "markdown",
   "metadata": {},
   "source": [
    "### Driver Code"
   ]
  },
  {
   "cell_type": "code",
   "execution_count": 6,
   "metadata": {},
   "outputs": [
    {
     "name": "stdout",
     "output_type": "stream",
     "text": [
      "target: 9.003974779900879e-05\n",
      "action: 3\n",
      "q_next: [3.04562423e-06 1.56578540e-06 1.27049830e-05 9.28244823e-05]\n",
      "q_next[action]: 9.282448226701937e-05\n",
      "state: 1\n",
      "new_state: 1\n",
      "q_table: [[1.08532688e-05 6.11149036e-05 3.85307515e-05 5.73140905e-05]\n",
      " [3.04562423e-06 1.56578540e-06 1.27049830e-05 9.28244823e-05]\n",
      " [4.68644847e-05 5.42824601e-05 9.95671485e-05 5.28143339e-05]\n",
      " [1.02831380e-05 3.75716932e-05 4.37329961e-05 9.69610550e-05]\n",
      " [6.50828537e-06 9.22112156e-05 9.71637473e-05 7.92040825e-05]\n",
      " [6.55694661e-05 9.38908367e-06 9.33252762e-05 8.25189317e-05]\n",
      " [4.26256099e-05 6.19626288e-05 5.71393032e-05 7.21245001e-05]\n",
      " [6.62903016e-05 8.42520223e-05 7.76405122e-05 4.04302499e-05]\n",
      " [2.87467704e-05 1.67296012e-05 2.05839695e-05 7.43231468e-05]\n",
      " [6.18152069e-05 9.20986505e-05 9.75158880e-05 8.04894577e-05]\n",
      " [2.07307934e-05 8.36602081e-05 4.68014474e-06 8.84450554e-05]\n",
      " [6.84224184e-05 2.98943778e-05 6.82363087e-05 3.33464576e-05]\n",
      " [1.33980084e-05 9.76727136e-06 5.86805311e-05 2.01214826e-05]\n",
      " [6.42601366e-05 5.79372351e-05 8.17158435e-05 9.39949154e-05]\n",
      " [8.92867021e-05 1.63101737e-05 4.45181374e-05 1.31960038e-05]\n",
      " [7.30532377e-05 6.38556142e-05 5.42687074e-05 3.65639253e-05]]\n",
      "q_table[state][actions]: 9.282448226701937e-05\n",
      "q_update: -2.784734468010586e-06\n",
      "q_table: [[1.08532688e-05 6.11149036e-05 3.85307515e-05 5.73140905e-05]\n",
      " [3.04562423e-06 1.56578540e-06 1.27049830e-05 9.27966349e-05]\n",
      " [4.68644847e-05 5.42824601e-05 9.95671485e-05 5.28143339e-05]\n",
      " [1.02831380e-05 3.75716932e-05 4.37329961e-05 9.69610550e-05]\n",
      " [6.50828537e-06 9.22112156e-05 9.71637473e-05 7.92040825e-05]\n",
      " [6.55694661e-05 9.38908367e-06 9.33252762e-05 8.25189317e-05]\n",
      " [4.26256099e-05 6.19626288e-05 5.71393032e-05 7.21245001e-05]\n",
      " [6.62903016e-05 8.42520223e-05 7.76405122e-05 4.04302499e-05]\n",
      " [2.87467704e-05 1.67296012e-05 2.05839695e-05 7.43231468e-05]\n",
      " [6.18152069e-05 9.20986505e-05 9.75158880e-05 8.04894577e-05]\n",
      " [2.07307934e-05 8.36602081e-05 4.68014474e-06 8.84450554e-05]\n",
      " [6.84224184e-05 2.98943778e-05 6.82363087e-05 3.33464576e-05]\n",
      " [1.33980084e-05 9.76727136e-06 5.86805311e-05 2.01214826e-05]\n",
      " [6.42601366e-05 5.79372351e-05 8.17158435e-05 9.39949154e-05]\n",
      " [8.92867021e-05 1.63101737e-05 4.45181374e-05 1.31960038e-05]\n",
      " [7.30532377e-05 6.38556142e-05 5.42687074e-05 3.65639253e-05]]\n"
     ]
    },
    {
     "ename": "KeyboardInterrupt",
     "evalue": "",
     "output_type": "error",
     "traceback": [
      "\u001b[0;31m---------------------------------------------------------------------------\u001b[0m",
      "\u001b[0;31mKeyboardInterrupt\u001b[0m                         Traceback (most recent call last)",
      "\u001b[1;32m/home/vrixl/code/ai-coding-practice/q_agent.ipynb Cell 14'\u001b[0m in \u001b[0;36m<cell line: 4>\u001b[0;34m()\u001b[0m\n\u001b[1;32m     <a href='vscode-notebook-cell://wsl%2Bubuntu/home/vrixl/code/ai-coding-practice/q_agent.ipynb#ch0000013vscode-remote?line=9'>10</a>\u001b[0m action \u001b[39m=\u001b[39m agent\u001b[39m.\u001b[39mget_action(state)\n\u001b[1;32m     <a href='vscode-notebook-cell://wsl%2Bubuntu/home/vrixl/code/ai-coding-practice/q_agent.ipynb#ch0000013vscode-remote?line=10'>11</a>\u001b[0m next_state, reward, done, info \u001b[39m=\u001b[39m env\u001b[39m.\u001b[39mstep(action)\n\u001b[0;32m---> <a href='vscode-notebook-cell://wsl%2Bubuntu/home/vrixl/code/ai-coding-practice/q_agent.ipynb#ch0000013vscode-remote?line=11'>12</a>\u001b[0m agent\u001b[39m.\u001b[39;49mtrain(experience\u001b[39m=\u001b[39;49m(state, action, next_state, reward, done))\n\u001b[1;32m     <a href='vscode-notebook-cell://wsl%2Bubuntu/home/vrixl/code/ai-coding-practice/q_agent.ipynb#ch0000013vscode-remote?line=12'>13</a>\u001b[0m state \u001b[39m=\u001b[39m next_state\n\u001b[1;32m     <a href='vscode-notebook-cell://wsl%2Bubuntu/home/vrixl/code/ai-coding-practice/q_agent.ipynb#ch0000013vscode-remote?line=13'>14</a>\u001b[0m total_reward \u001b[39m+\u001b[39m\u001b[39m=\u001b[39m reward\n",
      "\u001b[1;32m/home/vrixl/code/ai-coding-practice/q_agent.ipynb Cell 10'\u001b[0m in \u001b[0;36mQAgent.train\u001b[0;34m(self, experience)\u001b[0m\n\u001b[1;32m     <a href='vscode-notebook-cell://wsl%2Bubuntu/home/vrixl/code/ai-coding-practice/q_agent.ipynb#ch0000009vscode-remote?line=97'>98</a>\u001b[0m     \u001b[39mself\u001b[39m\u001b[39m.\u001b[39mepsilon \u001b[39m=\u001b[39m \u001b[39mself\u001b[39m\u001b[39m.\u001b[39mepsilon \u001b[39m*\u001b[39m \u001b[39m0.99\u001b[39m\n\u001b[1;32m    <a href='vscode-notebook-cell://wsl%2Bubuntu/home/vrixl/code/ai-coding-practice/q_agent.ipynb#ch0000009vscode-remote?line=99'>100</a>\u001b[0m \u001b[39m# wait 2 seconds\u001b[39;00m\n\u001b[0;32m--> <a href='vscode-notebook-cell://wsl%2Bubuntu/home/vrixl/code/ai-coding-practice/q_agent.ipynb#ch0000009vscode-remote?line=100'>101</a>\u001b[0m time\u001b[39m.\u001b[39;49msleep(\u001b[39m4\u001b[39;49m)\n",
      "\u001b[0;31mKeyboardInterrupt\u001b[0m: "
     ]
    }
   ],
   "source": [
    "# used to keep track of the cumulative reward\n",
    "total_reward = 0\n",
    "# train agent over a number of episodes\n",
    "for episode in range(100):\n",
    "    # fresh state\n",
    "    state = env.reset()\n",
    "    # agent is finished or failed\n",
    "    done = False\n",
    "    while not done:\n",
    "        action = agent.get_action(state)\n",
    "        next_state, reward, done, info = env.step(action)\n",
    "        agent.train(experience=(state, action, next_state, reward, done))\n",
    "        state = next_state\n",
    "        total_reward += reward\n",
    "        print(f\"state: {state}, action: {action}\")\n",
    "        print(\n",
    "            f\"episode: {episode}, total reward: {total_reward}, epsilon: {agent.epsilon}\")\n",
    "        env.render()\n",
    "        time.sleep(.05)\n",
    "        clear_output(wait=True)\n"
   ]
  }
 ],
 "metadata": {
  "interpreter": {
   "hash": "916dbcbb3f70747c44a77c7bcd40155683ae19c65e1c03b4aa3499c5328201f1"
  },
  "kernelspec": {
   "display_name": "Python 3.8.10 64-bit",
   "language": "python",
   "name": "python3"
  },
  "language_info": {
   "codemirror_mode": {
    "name": "ipython",
    "version": 3
   },
   "file_extension": ".py",
   "mimetype": "text/x-python",
   "name": "python",
   "nbconvert_exporter": "python",
   "pygments_lexer": "ipython3",
   "version": "3.8.10"
  },
  "orig_nbformat": 4
 },
 "nbformat": 4,
 "nbformat_minor": 2
}
